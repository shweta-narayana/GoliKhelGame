import sys

def start():
    #start with this. sets the board.
    print('Welcome to Goli Khel. Your goal is to remove as many tokens as possible from the board.')
    print('Move a token -i.e a value of 1- from its spot to an empty spot -i.e a value of 0- by hopping over an adjacent token with value 1.')
    print('When you hop over a token it disappers from the board.')
    print('You can only move up, down, right or left. You can only hop over a single adjacent token which should have a value of 1')
    print('Each token is identified by its row and column. For example the middle location of 0 is indicated by coordinates 3,3.')
    print('This is your starting board. Have fun.')
    global b
    b=[['X',1,1,1,'X'],
        [1,1,1,1,1],
        [1,1,0,1,1],
        [1,1,1,1,1],
        ['X',1,1,1,'X']
        ]
    printfunc(b)
    userinput()
    
def userinput():
    #accept corrds and pass integers to checks function
    inp=input('Provide the start coordinates as row,column - separated by a comma - or x to exit. Values can range from 1 to 5.')
    if inp.lower()=='x':
        sys.exit('Bye.')

    start=inp.rsplit(',') 
    try:
        int(start[0].strip())
    except:
        print('Error.Provide integers as coordinates for row and column.')
        userinput()
    try:
        int(start[1].strip())
    except:
        print('Error.Provide integers as coordinates for row and column.')
        userinput()
#userprovided inputs reduced by 1 to get the list indices
    sx=int(start[0].strip())-1
    sy=int(start[1].strip())-1

    end=input('Provide the destination coordinates as row,column - separated by a comma. Values can range from 1 to 5.').rsplit(',') 
    try:
        int(end[0].strip())
    except:
        print('Error.Provide integers as coordinates for row and column.')
        userinput()
    try:
        int(end[1].strip())
    except:
        print('Error.Provide integers as coordinates for row and column.')
        userinput()
#userprovided inputs reduced by 1 to get the list indices
    ex=int(end[0].strip())-1
    ey=int(end[1].strip())-1

    checks(sx,sy,ex,ey)

def checks(sx,sy,ex,ey):
    #checks inputs for few conditions and routes to move function if ok else routes to input function
    global b

    start=[]
    start.append(sx)
    start.append(sy)

    end=[]
    end.append(ex)
    end.append(ey)

    if sx not in range(0,5) or sy not in range(0,5) or ex not in range(0,5) or ey not in range(0,5):
        print(f('Error. Coordinates are out of range.Provide integers between 0 and {len(b[0])-1}'))
        userinput()
    elif start in [[0,0],[4,4],[0,4],[4,0]]:
        print('Error. This location is invalid. Provide coordinates for a location with token of 1')
        userinput()
      
    elif end in [[0,0],[4,4],[0,4],[4,0]]:
        print('Error. This location is invalid. Provide coordinates for a location with token of 0')
        userinput()

    elif end==start:
        print('Error. Start and destination cannot be the same.')
        userinput()

    elif b[sx][sy]==0:
        print('Error. Location has no token. Provide coordinates for a location with token of 1')
        print(b[sx][sy])
        userinput()

    elif b[ex][ey]==1:
        print('Error. Destination already has a token. Provide coordinates for a location with token of 0')
        userinput()

    else:
        move(sx,sy,ex,ey)

def printfunc(b):
    #prints the board    
    print()
    for i in range(0,5):
        for j in range(0,5):
            print(b[i][j],' ',end="")
        print()

# movement is along the same line , no diagonal, with diff of one house, house in the middle is 1
def move(sx,sy,ex,ey):
    #checks for valid play else routes to input function. for valid play, moves the
    #start is 1, end is zero,
    global b
    if sx==ex and sy-ey==2 and b[sx][(sy-1)]==1: #move left 
        b[sx][sy]=0
        b[ex][ey]=1
        b[sx][sy-1]=0
    elif sx==ex and ey-sy==2 and b[sx][(sy+1)]==1 : #move right 
        b[sx][sy+1]=0
        b[sx][sy]=0
        b[ex][ey]=1
    elif sx-ex==2 and sy==ey and b[(sx-1)][sy]==1 : #move left
        b[sx-1][sy]=0
        b[sx][sy]=0
        b[ex][ey]=1
    elif ex-sx==2 and sy==ey and b[(sx+1)][sy]==1 :#move right
        b[sx+1][sy]=0
        b[sx][sy]=0
        b[ex][ey]=1
    else:
        print('invalid move, try again. ')
    print('-'*25,'Updated Board','-'*25,end='')
    printfunc(b)
    userinput()
